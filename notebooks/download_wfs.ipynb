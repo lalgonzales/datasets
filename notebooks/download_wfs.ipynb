{
 "cells": [
  {
   "cell_type": "markdown",
   "metadata": {},
   "source": [
    "# 1. Libraries\n"
   ]
  },
  {
   "cell_type": "code",
   "execution_count": 8,
   "metadata": {},
   "outputs": [],
   "source": [
    "import geopandas as gpd\n",
    "import pandas as pd\n",
    "from owslib.wfs import WebFeatureService\n"
   ]
  },
  {
   "cell_type": "markdown",
   "metadata": {},
   "source": [
    "# 2. Get the data"
   ]
  },
  {
   "cell_type": "code",
   "execution_count": null,
   "metadata": {},
   "outputs": [],
   "source": [
    "# Get the WFS capabilities\n",
    "url = \"https://geoserver.icf.gob.hn/icf/wfs\"\n",
    "wfs = WebFeatureService(url=url, version='1.1.0')\n",
    "\n",
    "# Create a list of the layers available\n",
    "layers = list(wfs.contents)\n",
    "layers"
   ]
  },
  {
   "cell_type": "code",
   "execution_count": null,
   "metadata": {},
   "outputs": [],
   "source": [
    "# Create a dictionary naming the layers and their titles\n",
    "layer_dict = {}\n",
    "for layer in layers:\n",
    "    title = wfs[layer].title\n",
    "    layer_dict[title] = layer\n",
    "layer_dict\n"
   ]
  },
  {
   "cell_type": "code",
   "execution_count": 11,
   "metadata": {},
   "outputs": [],
   "source": [
    "# Define the list of layers to download\n",
    "layer_list = [\n",
    "    \"Limite_HN\", # National boundary of Honduras\n",
    "    \"adef\", # Deforestation alerts from Global Forest Watch\n",
    "    \"areas_asignadas\", #\n",
    "    \"areas_protegidas\", # Declared protected areas\n",
    "    \"areas_protegidas_propuesta\", # Proposed protected areas\n",
    "    \"m1102va001970_hn\", # Departametnal boundaries\n",
    "    \"m1103va002001_hn\", # Municipal boundaries,\n",
    "    \"m1104vA002001_HN\", # Village boundaries\n",
    "    \"microcuencas_declaradas\", # Declared watersheds\n",
    "    \"planes_de_manejo_aprobados\", # Approved forest management plans\n",
    "    \"regiones_forestales_icf\", # ICF forest regions\n",
    "    \"reservas_biosfera\", # Biosphere reserves\n",
    "    \"reservas_naturales_privadas\", # Private nature reserves\n",
    "    \"vida_silvestre\", # Wildlife sites\n",
    "]\n"
   ]
  },
  {
   "cell_type": "code",
   "execution_count": null,
   "metadata": {},
   "outputs": [],
   "source": [
    "# Download the layers as geojson files\n",
    "print(\"Downloading layers...\")\n",
    "for layer in layer_list:\n",
    "    response = wfs.getfeature(typename=layer_dict[layer], outputFormat=\"json\")\n",
    "    if layer == \"adef\":\n",
    "        layer = \"alertas_deforestacion\"\n",
    "    elif layer == \"m1102va001970_hn\":\n",
    "        layer = \"departamentos_hn\"\n",
    "    elif layer == \"m1103va002001_hn\":\n",
    "        layer = \"municipios_hn\"\n",
    "    elif layer == \"m1104vA002001_HN\":\n",
    "        layer = \"aldeas_hn\"\n",
    "    else:\n",
    "        pass\n",
    "    with open(f\"../vector/{layer}.geojson\", \"wb\") as file:\n",
    "        file.write(response.read())\n",
    "    print(f\"{layer} downloaded as geojson\")\n",
    "\n",
    "print(f\"Downloaded {len(layer_list)} layers\")"
   ]
  },
  {
   "cell_type": "code",
   "execution_count": null,
   "metadata": {},
   "outputs": [],
   "source": [
    "# Download the layers as gkpg files\n",
    "print(\"Downloading layers...\")\n",
    "for layer in layer_list:\n",
    "    response = wfs.getfeature(typename=layer_dict[layer], outputFormat=\"json\")\n",
    "    if layer == \"adef\":\n",
    "        layer = \"alertas_deforestacion\"\n",
    "    elif layer == \"m1102va001970_hn\":\n",
    "        layer = \"departamentos_hn\"\n",
    "    elif layer == \"m1103va002001_hn\":\n",
    "        layer = \"municipios_hn\"\n",
    "    elif layer == \"m1104vA002001_HN\":\n",
    "        layer = \"aldeas_hn\"\n",
    "    else:\n",
    "        pass\n",
    "    gdf = gpd.read_file(response)\n",
    "    gdf.to_file(f\"../vector/{layer}.gpkg\", driver=\"GPKG\")\n",
    "    print(f\"{layer} downloaded as GPKG\")\n",
    "\n",
    "print(f\"Downloaded {len(layer_list)} layers as GPKG\")"
   ]
  },
  {
   "cell_type": "code",
   "execution_count": null,
   "metadata": {},
   "outputs": [],
   "source": []
  }
 ],
 "metadata": {
  "kernelspec": {
   "display_name": "geo",
   "language": "python",
   "name": "python3"
  },
  "language_info": {
   "codemirror_mode": {
    "name": "ipython",
    "version": 3
   },
   "file_extension": ".py",
   "mimetype": "text/x-python",
   "name": "python",
   "nbconvert_exporter": "python",
   "pygments_lexer": "ipython3",
   "version": "3.12.3"
  }
 },
 "nbformat": 4,
 "nbformat_minor": 2
}
